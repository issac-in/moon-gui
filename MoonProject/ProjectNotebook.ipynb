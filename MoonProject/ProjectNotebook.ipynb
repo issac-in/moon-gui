{
 "cells": [
  {
   "cell_type": "markdown",
   "metadata": {},
   "source": [
    "# COGS18 Final Project: Moon GUI"
   ]
  },
  {
   "cell_type": "markdown",
   "metadata": {},
   "source": [
    "## Description:\n",
    "This is a python tkinter moon GUI program. The GUI allows for the user to input a given date, and a U.S. city, to get information on:\n",
    "1. Moon-phase (+ a matching visual image)\n",
    "2. Moon-rise\n",
    "3. Moon-set"
   ]
  },
  {
   "cell_type": "markdown",
   "metadata": {},
   "source": [
    "## Process:\n",
    "I created a minimally viable GUI that displayed an image and random text to see if I could actually implement a GUI based final-project. Afterwards, during each part of the process, I had to refine my GUI accordingly to my needs.\n",
    "\n",
    "Then, I researched into calculating moon-phases, and what was going to be the most viable way for me to do so, then wrote it into code. I ended up settling on a fairly simple algorithm I found, but it wasn't very rigorous so I ended up spending an obscene amount of time making sure that it passed a lot of exhaustive asserts in my tests.\n",
    "\n",
    "Then, I researched into calculating moon-rise, moon-set, and realized that unlike moon-phases, I could attempt to web-scrape this information, instead of trying to read through another exhaustive round of algorithms and math that flies right over my head. This also took a while because how the website I was scraping stored such data differently in different scenarios, so I had to reflect that in my code.\n",
    "\n",
    "From this point, I had to make sure my code was functional, and the bare minimums for my standards worked, that the moon-phase worked, the moon-rise/set worked, and the image corresponding to the moon-phase was accurate. \n",
    "\n",
    "After I got that going I had to go back and spend a lot of time re-writing code according to PEP8, and adding in documentation, and fixing bugs that cropped up when re-writing code, and adding in more tests to ensure there's a lower likelihood of something going wrong somewhere. "
   ]
  },
  {
   "cell_type": "markdown",
   "metadata": {},
   "source": [
    "## Setup:\n",
    "Because my final project utilizes Tkinter, I cannot demonstrate the final product in a Jupyter notebook. Additionally, as I designed my GUI on a\n",
    "Windows 10 computer, and only utilize Windows 10, I'm not entirely sure if my GUI will port super-nicely on other OS's - due to the nature of Tkinter.\n",
    "\n",
    "Also, this final project requires:\n",
    "1. pip install pillow \n",
    "2. pip install requests\n",
    "3. pip install beautifulsoup4\n",
    "\n",
    "Link to what the GUI looks like running on my Windows 10 computer: https://imgur.com/a/pmJOmi6\n",
    "\n",
    "That said, if you go to my moon_gui.py under the scripts folder of my project, and then run it on something like Sublime Text 3, you'll get access to the GUI."
   ]
  },
  {
   "cell_type": "markdown",
   "metadata": {},
   "source": [
    "## Examples\n",
    "I can't run Tkinter in this, but I can put below most of my functions that my GUI runs on. "
   ]
  },
  {
   "cell_type": "code",
   "execution_count": 1,
   "metadata": {},
   "outputs": [],
   "source": [
    "from moon_module.functions import dic_interpreter, dic_calculator, city_format, moon_scraper, date_check"
   ]
  },
  {
   "cell_type": "markdown",
   "metadata": {},
   "source": [
    "### Examples based on above code ^^^"
   ]
  },
  {
   "cell_type": "code",
   "execution_count": 2,
   "metadata": {},
   "outputs": [
    {
     "name": "stdout",
     "output_type": "stream",
     "text": [
      "Full Moon\n"
     ]
    }
   ],
   "source": [
    "# What phase is 15 days after a new moon?\n",
    "print(dic_interpreter(15.0))"
   ]
  },
  {
   "cell_type": "code",
   "execution_count": 3,
   "metadata": {},
   "outputs": [
    {
     "name": "stdout",
     "output_type": "stream",
     "text": [
      "New Moon\n"
     ]
    }
   ],
   "source": [
    "# Given the a year, month, and day, what is the moon-phase?\n",
    "print(dic_calculator(2020,5,22))"
   ]
  },
  {
   "cell_type": "code",
   "execution_count": 4,
   "metadata": {},
   "outputs": [
    {
     "name": "stdout",
     "output_type": "stream",
     "text": [
      "san-francisco\n"
     ]
    }
   ],
   "source": [
    "# Given a user's input of \"San!! FRA@Ncisco\", let's format it for web-scraping.\n",
    "print(city_format(\"San!! FRA@Ncisco\"))"
   ]
  },
  {
   "cell_type": "code",
   "execution_count": 5,
   "metadata": {},
   "outputs": [
    {
     "name": "stdout",
     "output_type": "stream",
     "text": [
      "5:51 am 7:57 pm\n"
     ]
    }
   ],
   "source": [
    "# Given a US city & date, calculate the moonrise & moonset\n",
    "rise_and_set = moon_scraper(\"San Diego\",2020,5,22)\n",
    "moonrise_0 = rise_and_set[0]\n",
    "moonset_1 = rise_and_set[1]\n",
    "print(moonrise_0, moonset_1)"
   ]
  },
  {
   "cell_type": "code",
   "execution_count": 6,
   "metadata": {},
   "outputs": [
    {
     "name": "stdout",
     "output_type": "stream",
     "text": [
      "['4:51 am', '2:12 pm', 'Waning Crescent']\n"
     ]
    }
   ],
   "source": [
    "# Given a US city & date, confirm if date is legitimate and\n",
    "# calculate the moonrise, moonset, and moonphase\n",
    "# What's the moonrise, moonset, and moonphase of New York on Jan 1, 2011?\n",
    "print(date_check(\"New York\",\"2011\",\"1\",\"1\"))"
   ]
  },
  {
   "cell_type": "markdown",
   "metadata": {},
   "source": [
    "## Justification for Extra-Credit\n",
    "Why my approach was particularly difficult/challenging for me:\n",
    "1. Researching on how to go about calculating the moon-phase and moon-rise/moon-set was a particularly difficult task for me. To get accurate results for the 4 critical moon phases (new moon, first quarter, full moon, third quarter) requires a lot of high-level algorithms, and a lot of variables. Even if none of that made it into my final project, there was an obscene amount of background research conducted on this project to figure out how I could possibly mathematically calculate the moon-phase. Also, the approach of getting to the point where I decided upon the moon-phase algorithm I found, was way above my comfort level and was quite challenging to even understand the content of what was being talked about in some discussions of the moon-phase algorithms. I don't even want to get started on the mathematical calculations of the moon-rise/moon-set algorithms and what those entail. I don't mind math, but it just boggled my mind. \n",
    "\n",
    "Some content I read through during research component of this project:\n",
    "1. Astronomical Algorithms, 2nd Edition, by Jean Meeus\n",
    "    (https://tinyurl.com/ya82lwh6)\n",
    "2. How to compute planetary positions\n",
    "    (https://tinyurl.com/ydysjwv4)\n",
    "3. Moon and Sun rise and set for any latitude\n",
    "    (https://tinyurl.com/y9swtkph)\n",
    "4. The Computation of the Times of Rising and Setting of the Moon\n",
    "    (https://tinyurl.com/ydcs4ykz)\n",
    "    \n",
    "Why my work goes beyond the minimal project requirements.\n",
    "1. I had to learn how to use Tkinter for this project\n",
    "I had absolutely 0 knowledge of Tkinter prior to this project and learning something from scratch was just brutal, and the documentation wasn't as forthcoming as the regular python documentation that I'm used too. I spent a lot of time tinkering with the UI set-up to make sure it was how I wanted.\n",
    "2. I had to use web-scraping for this project\n",
    "I had 1 experience of using beautifulsoup briefly, but it was still really challenging for me because I had to figure out how to scrape a web-site but not have it write to a csv file but to a GUI ouput, figure out how to handle specific cases of how the website got formatted, and debugging was really difficult for me because I wasn't taught on it in class nor familiar with beautifulsoup, so having to go through the process of figuring what is going wrong, why it's going wrong, and what I need to do to fix it was brutal.\n",
    "3. I wrote exhaustive tests for my functions.\n",
    "The minimal project requirements state that to use \"at least two code tests\", well I wrote 8 tests, 5 of which were for the function of determining the moon-phase, to ensure my program was going to execute as intended with a minimal likelihood for issues, in spite of the length of the synodic lunar month varying quite a bit month to month at times. Likewies, I wrote exhaustive asserts for the expected outputs of other functions given certain inputs to make sure that my functions are rigorous and can handle test-cases well. (I put a lot of time making sure my tests all passed without issues and debugging TT_TT)."
   ]
  },
  {
   "cell_type": "code",
   "execution_count": null,
   "metadata": {},
   "outputs": [],
   "source": []
  }
 ],
 "metadata": {
  "kernelspec": {
   "display_name": "Python 3",
   "language": "python",
   "name": "python3"
  },
  "language_info": {
   "codemirror_mode": {
    "name": "ipython",
    "version": 3
   },
   "file_extension": ".py",
   "mimetype": "text/x-python",
   "name": "python",
   "nbconvert_exporter": "python",
   "pygments_lexer": "ipython3",
   "version": "3.7.6"
  }
 },
 "nbformat": 4,
 "nbformat_minor": 4
}
